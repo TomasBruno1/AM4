{
 "cells": [
  {
   "cell_type": "markdown",
   "metadata": {},
   "source": [
    "**Trapecios**"
   ]
  },
  {
   "cell_type": "code",
   "execution_count": 5,
   "metadata": {},
   "outputs": [],
   "source": [
    "def trapecios(f, a, b, n):\n",
    "    \"\"\"recibe la función f, los extremos a y b, y la cantidad de divisiones entre los mismos (n)\n",
    "    \"\"\"\n",
    "    \n",
    "    h = (b - a) / (n * 1.0)\n",
    "    \n",
    "    x = []\n",
    "    \n",
    "    for t in range(n+1):\n",
    "        x.append(a+h*t)\n",
    "    \n",
    "    I = 0\n",
    "    \n",
    "    for xi in x:\n",
    "        I += 2 * f(xi)\n",
    "\n",
    "    I += f(a) + f(b)\n",
    "    I *= (h/2.0)\n",
    "    \n",
    "    return I"
   ]
  },
  {
   "cell_type": "code",
   "execution_count": 36,
   "metadata": {
    "scrolled": true
   },
   "outputs": [
    {
     "name": "stdout",
     "output_type": "stream",
     "text": [
      "0.6931771805849497\n",
      "0.6931471805599453\n"
     ]
    }
   ],
   "source": [
    "import math\n",
    "f = lambda x: 1.0/x\n",
    "a = 1\n",
    "b = 2\n",
    "n = 50000\n",
    "print(trapecios(f, a, b, n))\n",
    "print(math.log(2) - math.log(1))\n",
    "# print(math.log(math.exp(1)))"
   ]
  },
  {
   "cell_type": "markdown",
   "metadata": {},
   "source": [
    "**Romberg**"
   ]
  },
  {
   "cell_type": "code",
   "execution_count": 3,
   "metadata": {},
   "outputs": [],
   "source": [
    "def print_row(lst):\n",
    "    print(' '.join('%11.8f' % x for x in lst))\n",
    "\n",
    "def romberg(f, a, b, error=1E-8):\n",
    "    R = [[0.5 * (b - a) * (f(a) + f(b))]]  # R[0][0]\n",
    "    print_row(R[0])\n",
    "    n = 1\n",
    "    while True:\n",
    "        h = float(b-a)/2**n\n",
    "        R.append((n+1)*[None])  # Add an empty row.\n",
    "        R[n][0] = 0.5*R[n-1][0] + h*sum(f(a+(2*k-1)*h) for k in range(1, 2**(n-1)+1)) # for proper limits\n",
    "        for m in range(1, n+1):\n",
    "            R[n][m] = R[n][m-1] + (R[n][m-1] - R[n-1][m-1]) / (4**m - 1)\n",
    "        print_row(R[n])\n",
    "        if abs(R[n][n-1] - R[n][n]) < error:\n",
    "            return R[n][n]\n",
    "        n += 1"
   ]
  },
  {
   "cell_type": "code",
   "execution_count": 4,
   "metadata": {},
   "outputs": [
    {
     "name": "stdout",
     "output_type": "stream",
     "text": [
      " 0.75000000\n",
      " 0.70833333  0.69444444\n",
      " 0.69702381  0.69325397  0.69317460\n",
      " 0.69412185  0.69315453  0.69314790  0.69314748\n",
      " 0.69339120  0.69314765  0.69314719  0.69314718  0.69314718\n",
      " 0.69320821  0.69314721  0.69314718  0.69314718  0.69314718  0.69314718\n",
      "0.6931471805622971\n",
      "0.6931471805599453\n"
     ]
    }
   ],
   "source": [
    "import math\n",
    "f = lambda x: 1.0/x\n",
    "a = 1\n",
    "b = 2\n",
    "n = 50\n",
    "print(romberg(f, a, b, 10**-10))\n",
    "print(math.log(2) - math.log(1))"
   ]
  },
  {
   "cell_type": "code",
   "execution_count": null,
   "metadata": {},
   "outputs": [],
   "source": []
  }
 ],
 "metadata": {
  "kernelspec": {
   "display_name": "Python 2",
   "language": "python",
   "name": "python2"
  },
  "language_info": {
   "codemirror_mode": {
    "name": "ipython",
    "version": 3
   },
   "file_extension": ".py",
   "mimetype": "text/x-python",
   "name": "python",
   "nbconvert_exporter": "python",
   "pygments_lexer": "ipython3",
   "version": "3.7.3"
  }
 },
 "nbformat": 4,
 "nbformat_minor": 1
}
