{
 "cells": [
  {
   "cell_type": "markdown",
   "metadata": {},
   "source": [
    "**Interpolación de imágenes**"
   ]
  },
  {
   "cell_type": "markdown",
   "metadata": {},
   "source": [
    "![Escalado](images/vecino_mas_cercano.png)"
   ]
  },
  {
   "cell_type": "code",
   "execution_count": 12,
   "metadata": {},
   "outputs": [
    {
     "name": "stdout",
     "output_type": "stream",
     "text": [
      "(400, 400, 3)\n"
     ]
    },
    {
     "data": {
      "image/png": "[encoded data removed]",
      "text/plain": [
       "<Figure size 432x288 with 1 Axes>"
      ]
     },
     "metadata": {
      "needs_background": "light"
     },
     "output_type": "display_data"
    }
   ],
   "source": [
    "import numpy as np\n",
    "import matplotlib.pyplot as plt\n",
    "\n",
    "# Leer una imagen\n",
    "img = plt.imread(\"test_1.jpg\")\n",
    "\n",
    "# Obtener la dimensión de la imagen\n",
    "height, width, t = img.shape\n",
    "\n",
    "print(img.shape)\n",
    "\n",
    "# Tamaño nuevo\n",
    "new_width = width * 2\n",
    "new_height = height * 2\n",
    "\n",
    "#Creamos una imagen negra del doble de tamaño\n",
    "resized_image = np.zeros((new_height, new_width, t))\n",
    "\n",
    "# Interpolar valores desconocidos\n",
    "\n",
    "# Guardamos la imagen en disco\n",
    "plt.imsave('test_bigger.png', resized_image)\n",
    "\n",
    "#Mostramos la imagen en pantalla\n",
    "plt.imshow(resized_image, vmin=0, vmax=1)\n",
    "plt.show()"
   ]
  },
  {
   "cell_type": "code",
   "execution_count": null,
   "metadata": {},
   "outputs": [],
   "source": []
  }
 ],
 "metadata": {
  "kernelspec": {
   "display_name": "Python 3",
   "language": "python",
   "name": "python3"
  },
  "language_info": {
   "codemirror_mode": {
    "name": "ipython",
    "version": 3
   },
   "file_extension": ".py",
   "mimetype": "text/x-python",
   "name": "python",
   "nbconvert_exporter": "python",
   "pygments_lexer": "ipython3",
   "version": "3.7.3"
  }
 },
 "nbformat": 4,
 "nbformat_minor": 2
}
