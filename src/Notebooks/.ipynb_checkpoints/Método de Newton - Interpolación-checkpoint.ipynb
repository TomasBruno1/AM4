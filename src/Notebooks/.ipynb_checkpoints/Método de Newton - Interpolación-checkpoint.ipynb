{
 "cells": [
  {
   "cell_type": "code",
   "execution_count": 20,
   "metadata": {},
   "outputs": [],
   "source": [
    "def S(c, k):\n",
    "    s = 0\n",
    "    for i in range(k):\n",
    "        p = 1\n",
    "        for j in range(i):\n",
    "            p *= x[k] - x[j]\n",
    "        s += c[i] * p\n",
    "    return s\n",
    "\n",
    "def Q(k):\n",
    "    p = 1\n",
    "    for j in range(k):\n",
    "        p *= x[k] - x[j]\n",
    "    return p\n",
    "\n",
    "def newton_interpol(x, y):\n",
    "    coefs = [y[0]]\n",
    "    n = len(x)\n",
    "    for k in range(1, n):\n",
    "        ck = (y[k] - S(coefs, k)) / Q(k)\n",
    "        coefs.append(ck)\n",
    "    pol_str = \"\"\n",
    "    for i in range(n):\n",
    "        pol_str += str(coefs[i])\n",
    "        for j in range(i):\n",
    "            pol_str += \"*(x - %s)\" % x[j]\n",
    "        if i != n-1:\n",
    "            pol_str += \"+\"\n",
    "        pol = lambda x: eval(pol_str, {'x': x})\n",
    "    return pol"
   ]
  },
  {
   "cell_type": "code",
   "execution_count": 22,
   "metadata": {},
   "outputs": [
    {
     "name": "stdout",
     "output_type": "stream",
     "text": [
      "1.0\n",
      "0.5\n",
      "1.2\n",
      "3.0\n",
      "0.5391999999999999\n"
     ]
    }
   ],
   "source": [
    "x = [1.5, 1.0, 0.5, 2.0]\n",
    "y = [1.0, 0.5, 1.2, 3.0]\n",
    "\n",
    "pol = newton_interpol(x, y)\n",
    "\n",
    "print(pol(1.5))\n",
    "print(pol(1.0))\n",
    "print(pol(0.5))\n",
    "print(pol(2.0))\n",
    "print(pol(1.2))\n",
    "\n"
   ]
  },
  {
   "cell_type": "code",
   "execution_count": 25,
   "metadata": {},
   "outputs": [
    {
     "data": {
      "image/png": "[encoded data removed]",
      "text/plain": [
       "<Figure size 432x288 with 1 Axes>"
      ]
     },
     "metadata": {
      "needs_background": "light"
     },
     "output_type": "display_data"
    }
   ],
   "source": [
    "import matplotlib.pyplot as plt\n",
    "import numpy as np\n",
    "\n",
    "x = np.linspace(-2, 3, 500)\n",
    "vf = np.vectorize(pol)\n",
    "y = vf(x)\n",
    "\n",
    "plt.plot(x, y, label='p(x)')\n",
    "\n",
    "plt.ylim([0, 3.0])\n",
    "plt.legend()\n",
    "plt.grid(True)\n",
    "plt.show()"
   ]
  },
  {
   "cell_type": "code",
   "execution_count": null,
   "metadata": {},
   "outputs": [],
   "source": []
  }
 ],
 "metadata": {
  "kernelspec": {
   "display_name": "Python 3",
   "language": "python",
   "name": "python3"
  },
  "language_info": {
   "codemirror_mode": {
    "name": "ipython",
    "version": 3
   },
   "file_extension": ".py",
   "mimetype": "text/x-python",
   "name": "python",
   "nbconvert_exporter": "python",
   "pygments_lexer": "ipython3",
   "version": "3.8.5"
  }
 },
 "nbformat": 4,
 "nbformat_minor": 2
}
