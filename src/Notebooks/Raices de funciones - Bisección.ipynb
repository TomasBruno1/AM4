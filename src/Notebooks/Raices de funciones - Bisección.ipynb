{
 "cells": [
  {
   "cell_type": "markdown",
   "metadata": {},
   "source": [
    "# Ayuda de Python"
   ]
  },
  {
   "cell_type": "code",
   "execution_count": 1,
   "metadata": {},
   "outputs": [
    {
     "name": "stdout",
     "output_type": "stream",
     "text": [
      "Help on module math:\n",
      "\n",
      "NAME\n",
      "    math\n",
      "\n",
      "MODULE REFERENCE\n",
      "    https://docs.python.org/3.7/library/math\n",
      "    \n",
      "    The following documentation is automatically generated from the Python\n",
      "    source files.  It may be incomplete, incorrect or include features that\n",
      "    are considered implementation detail and may vary between Python\n",
      "    implementations.  When in doubt, consult the module reference at the\n",
      "    location listed above.\n",
      "\n",
      "DESCRIPTION\n",
      "    This module is always available.  It provides access to the\n",
      "    mathematical functions defined by the C standard.\n",
      "\n",
      "FUNCTIONS\n",
      "    acos(x, /)\n",
      "        Return the arc cosine (measured in radians) of x.\n",
      "    \n",
      "    acosh(x, /)\n",
      "        Return the inverse hyperbolic cosine of x.\n",
      "    \n",
      "    asin(x, /)\n",
      "        Return the arc sine (measured in radians) of x.\n",
      "    \n",
      "    asinh(x, /)\n",
      "        Return the inverse hyperbolic sine of x.\n",
      "    \n",
      "    atan(x, /)\n",
      "        Return the arc tangent (measured in radians) of x.\n",
      "    \n",
      "    atan2(y, x, /)\n",
      "        Return the arc tangent (measured in radians) of y/x.\n",
      "        \n",
      "        Unlike atan(y/x), the signs of both x and y are considered.\n",
      "    \n",
      "    atanh(x, /)\n",
      "        Return the inverse hyperbolic tangent of x.\n",
      "    \n",
      "    ceil(x, /)\n",
      "        Return the ceiling of x as an Integral.\n",
      "        \n",
      "        This is the smallest integer >= x.\n",
      "    \n",
      "    copysign(x, y, /)\n",
      "        Return a float with the magnitude (absolute value) of x but the sign of y.\n",
      "        \n",
      "        On platforms that support signed zeros, copysign(1.0, -0.0)\n",
      "        returns -1.0.\n",
      "    \n",
      "    cos(x, /)\n",
      "        Return the cosine of x (measured in radians).\n",
      "    \n",
      "    cosh(x, /)\n",
      "        Return the hyperbolic cosine of x.\n",
      "    \n",
      "    degrees(x, /)\n",
      "        Convert angle x from radians to degrees.\n",
      "    \n",
      "    erf(x, /)\n",
      "        Error function at x.\n",
      "    \n",
      "    erfc(x, /)\n",
      "        Complementary error function at x.\n",
      "    \n",
      "    exp(x, /)\n",
      "        Return e raised to the power of x.\n",
      "    \n",
      "    expm1(x, /)\n",
      "        Return exp(x)-1.\n",
      "        \n",
      "        This function avoids the loss of precision involved in the direct evaluation of exp(x)-1 for small x.\n",
      "    \n",
      "    fabs(x, /)\n",
      "        Return the absolute value of the float x.\n",
      "    \n",
      "    factorial(x, /)\n",
      "        Find x!.\n",
      "        \n",
      "        Raise a ValueError if x is negative or non-integral.\n",
      "    \n",
      "    floor(x, /)\n",
      "        Return the floor of x as an Integral.\n",
      "        \n",
      "        This is the largest integer <= x.\n",
      "    \n",
      "    fmod(x, y, /)\n",
      "        Return fmod(x, y), according to platform C.\n",
      "        \n",
      "        x % y may differ.\n",
      "    \n",
      "    frexp(x, /)\n",
      "        Return the mantissa and exponent of x, as pair (m, e).\n",
      "        \n",
      "        m is a float and e is an int, such that x = m * 2.**e.\n",
      "        If x is 0, m and e are both 0.  Else 0.5 <= abs(m) < 1.0.\n",
      "    \n",
      "    fsum(seq, /)\n",
      "        Return an accurate floating point sum of values in the iterable seq.\n",
      "        \n",
      "        Assumes IEEE-754 floating point arithmetic.\n",
      "    \n",
      "    gamma(x, /)\n",
      "        Gamma function at x.\n",
      "    \n",
      "    gcd(x, y, /)\n",
      "        greatest common divisor of x and y\n",
      "    \n",
      "    hypot(x, y, /)\n",
      "        Return the Euclidean distance, sqrt(x*x + y*y).\n",
      "    \n",
      "    isclose(a, b, *, rel_tol=1e-09, abs_tol=0.0)\n",
      "        Determine whether two floating point numbers are close in value.\n",
      "        \n",
      "          rel_tol\n",
      "            maximum difference for being considered \"close\", relative to the\n",
      "            magnitude of the input values\n",
      "          abs_tol\n",
      "            maximum difference for being considered \"close\", regardless of the\n",
      "            magnitude of the input values\n",
      "        \n",
      "        Return True if a is close in value to b, and False otherwise.\n",
      "        \n",
      "        For the values to be considered close, the difference between them\n",
      "        must be smaller than at least one of the tolerances.\n",
      "        \n",
      "        -inf, inf and NaN behave similarly to the IEEE 754 Standard.  That\n",
      "        is, NaN is not close to anything, even itself.  inf and -inf are\n",
      "        only close to themselves.\n",
      "    \n",
      "    isfinite(x, /)\n",
      "        Return True if x is neither an infinity nor a NaN, and False otherwise.\n",
      "    \n",
      "    isinf(x, /)\n",
      "        Return True if x is a positive or negative infinity, and False otherwise.\n",
      "    \n",
      "    isnan(x, /)\n",
      "        Return True if x is a NaN (not a number), and False otherwise.\n",
      "    \n",
      "    ldexp(x, i, /)\n",
      "        Return x * (2**i).\n",
      "        \n",
      "        This is essentially the inverse of frexp().\n",
      "    \n",
      "    lgamma(x, /)\n",
      "        Natural logarithm of absolute value of Gamma function at x.\n",
      "    \n",
      "    log(...)\n",
      "        log(x, [base=math.e])\n",
      "        Return the logarithm of x to the given base.\n",
      "        \n",
      "        If the base not specified, returns the natural logarithm (base e) of x.\n",
      "    \n",
      "    log10(x, /)\n",
      "        Return the base 10 logarithm of x.\n",
      "    \n",
      "    log1p(x, /)\n",
      "        Return the natural logarithm of 1+x (base e).\n",
      "        \n",
      "        The result is computed in a way which is accurate for x near zero.\n",
      "    \n",
      "    log2(x, /)\n",
      "        Return the base 2 logarithm of x.\n",
      "    \n",
      "    modf(x, /)\n",
      "        Return the fractional and integer parts of x.\n",
      "        \n",
      "        Both results carry the sign of x and are floats.\n",
      "    \n",
      "    pow(x, y, /)\n",
      "        Return x**y (x to the power of y).\n",
      "    \n",
      "    radians(x, /)\n",
      "        Convert angle x from degrees to radians.\n",
      "    \n",
      "    remainder(x, y, /)\n",
      "        Difference between x and the closest integer multiple of y.\n",
      "        \n",
      "        Return x - n*y where n*y is the closest integer multiple of y.\n",
      "        In the case where x is exactly halfway between two multiples of\n",
      "        y, the nearest even value of n is used. The result is always exact.\n",
      "    \n",
      "    sin(x, /)\n",
      "        Return the sine of x (measured in radians).\n",
      "    \n",
      "    sinh(x, /)\n",
      "        Return the hyperbolic sine of x.\n",
      "    \n",
      "    sqrt(x, /)\n",
      "        Return the square root of x.\n",
      "    \n",
      "    tan(x, /)\n",
      "        Return the tangent of x (measured in radians).\n",
      "    \n",
      "    tanh(x, /)\n",
      "        Return the hyperbolic tangent of x.\n",
      "    \n",
      "    trunc(x, /)\n",
      "        Truncates the Real x to the nearest Integral toward 0.\n",
      "        \n",
      "        Uses the __trunc__ magic method.\n",
      "\n",
      "DATA\n",
      "    e = 2.718281828459045\n",
      "    inf = inf\n",
      "    nan = nan\n",
      "    pi = 3.141592653589793\n",
      "    tau = 6.283185307179586\n",
      "\n",
      "FILE\n",
      "    /home/aolmedo/anaconda3/lib/python3.7/lib-dynload/math.cpython-37m-x86_64-linux-gnu.so\n",
      "\n",
      "\n"
     ]
    }
   ],
   "source": [
    "import math\n",
    "help(math)"
   ]
  },
  {
   "cell_type": "markdown",
   "metadata": {},
   "source": [
    "# Medir el tiempo que tarda un algoritmo"
   ]
  },
  {
   "cell_type": "code",
   "execution_count": 3,
   "metadata": {},
   "outputs": [
    {
     "name": "stdout",
     "output_type": "stream",
     "text": [
      "5.006426811218262\n"
     ]
    }
   ],
   "source": [
    "import time\n",
    "t_0 = time.time()\n",
    "time.sleep(5)  # Código que quiero medir el tiempo que demora.\n",
    "t_1 = time.time()\n",
    "e_time = t_1 - t_0\n",
    "print(e_time)"
   ]
  },
  {
   "cell_type": "markdown",
   "metadata": {},
   "source": [
    "# Raices de funciones"
   ]
  },
  {
   "cell_type": "markdown",
   "metadata": {},
   "source": [
    "Encontrar visualmente la solucioón de esta ecuación\n",
    "\n",
    "** x + 0.5 + cos(x) = 0 **"
   ]
  },
  {
   "cell_type": "code",
   "execution_count": 4,
   "metadata": {},
   "outputs": [
    {
     "data": {
      "text/plain": [
       "1.5"
      ]
     },
     "execution_count": 4,
     "metadata": {},
     "output_type": "execute_result"
    }
   ],
   "source": [
    "import math\n",
    "f = lambda x: x + 0.5 + math.cos(x)\n",
    "f(0)"
   ]
  },
  {
   "cell_type": "markdown",
   "metadata": {},
   "source": [
    "## Grafiquemos la función"
   ]
  },
  {
   "cell_type": "code",
   "execution_count": 5,
   "metadata": {},
   "outputs": [
    {
     "name": "stdout",
     "output_type": "stream",
     "text": [
      "[-2.         -1.99198397 -1.98396794 -1.9759519  -1.96793587 -1.95991984\n",
      " -1.95190381 -1.94388778 -1.93587174 -1.92785571 -1.91983968 -1.91182365\n",
      " -1.90380762 -1.89579158 -1.88777555 -1.87975952 -1.87174349 -1.86372745\n",
      " -1.85571142 -1.84769539 -1.83967936 -1.83166333 -1.82364729 -1.81563126\n",
      " -1.80761523 -1.7995992  -1.79158317 -1.78356713 -1.7755511  -1.76753507\n",
      " -1.75951904 -1.75150301 -1.74348697 -1.73547094 -1.72745491 -1.71943888\n",
      " -1.71142285 -1.70340681 -1.69539078 -1.68737475 -1.67935872 -1.67134269\n",
      " -1.66332665 -1.65531062 -1.64729459 -1.63927856 -1.63126253 -1.62324649\n",
      " -1.61523046 -1.60721443 -1.5991984  -1.59118236 -1.58316633 -1.5751503\n",
      " -1.56713427 -1.55911824 -1.5511022  -1.54308617 -1.53507014 -1.52705411\n",
      " -1.51903808 -1.51102204 -1.50300601 -1.49498998 -1.48697395 -1.47895792\n",
      " -1.47094188 -1.46292585 -1.45490982 -1.44689379 -1.43887776 -1.43086172\n",
      " -1.42284569 -1.41482966 -1.40681363 -1.3987976  -1.39078156 -1.38276553\n",
      " -1.3747495  -1.36673347 -1.35871743 -1.3507014  -1.34268537 -1.33466934\n",
      " -1.32665331 -1.31863727 -1.31062124 -1.30260521 -1.29458918 -1.28657315\n",
      " -1.27855711 -1.27054108 -1.26252505 -1.25450902 -1.24649299 -1.23847695\n",
      " -1.23046092 -1.22244489 -1.21442886 -1.20641283 -1.19839679 -1.19038076\n",
      " -1.18236473 -1.1743487  -1.16633267 -1.15831663 -1.1503006  -1.14228457\n",
      " -1.13426854 -1.12625251 -1.11823647 -1.11022044 -1.10220441 -1.09418838\n",
      " -1.08617234 -1.07815631 -1.07014028 -1.06212425 -1.05410822 -1.04609218\n",
      " -1.03807615 -1.03006012 -1.02204409 -1.01402806 -1.00601202 -0.99799599\n",
      " -0.98997996 -0.98196393 -0.9739479  -0.96593186 -0.95791583 -0.9498998\n",
      " -0.94188377 -0.93386774 -0.9258517  -0.91783567 -0.90981964 -0.90180361\n",
      " -0.89378758 -0.88577154 -0.87775551 -0.86973948 -0.86172345 -0.85370741\n",
      " -0.84569138 -0.83767535 -0.82965932 -0.82164329 -0.81362725 -0.80561122\n",
      " -0.79759519 -0.78957916 -0.78156313 -0.77354709 -0.76553106 -0.75751503\n",
      " -0.749499   -0.74148297 -0.73346693 -0.7254509  -0.71743487 -0.70941884\n",
      " -0.70140281 -0.69338677 -0.68537074 -0.67735471 -0.66933868 -0.66132265\n",
      " -0.65330661 -0.64529058 -0.63727455 -0.62925852 -0.62124248 -0.61322645\n",
      " -0.60521042 -0.59719439 -0.58917836 -0.58116232 -0.57314629 -0.56513026\n",
      " -0.55711423 -0.5490982  -0.54108216 -0.53306613 -0.5250501  -0.51703407\n",
      " -0.50901804 -0.501002   -0.49298597 -0.48496994 -0.47695391 -0.46893788\n",
      " -0.46092184 -0.45290581 -0.44488978 -0.43687375 -0.42885772 -0.42084168\n",
      " -0.41282565 -0.40480962 -0.39679359 -0.38877756 -0.38076152 -0.37274549\n",
      " -0.36472946 -0.35671343 -0.34869739 -0.34068136 -0.33266533 -0.3246493\n",
      " -0.31663327 -0.30861723 -0.3006012  -0.29258517 -0.28456914 -0.27655311\n",
      " -0.26853707 -0.26052104 -0.25250501 -0.24448898 -0.23647295 -0.22845691\n",
      " -0.22044088 -0.21242485 -0.20440882 -0.19639279 -0.18837675 -0.18036072\n",
      " -0.17234469 -0.16432866 -0.15631263 -0.14829659 -0.14028056 -0.13226453\n",
      " -0.1242485  -0.11623246 -0.10821643 -0.1002004  -0.09218437 -0.08416834\n",
      " -0.0761523  -0.06813627 -0.06012024 -0.05210421 -0.04408818 -0.03607214\n",
      " -0.02805611 -0.02004008 -0.01202405 -0.00400802  0.00400802  0.01202405\n",
      "  0.02004008  0.02805611  0.03607214  0.04408818  0.05210421  0.06012024\n",
      "  0.06813627  0.0761523   0.08416834  0.09218437  0.1002004   0.10821643\n",
      "  0.11623246  0.1242485   0.13226453  0.14028056  0.14829659  0.15631263\n",
      "  0.16432866  0.17234469  0.18036072  0.18837675  0.19639279  0.20440882\n",
      "  0.21242485  0.22044088  0.22845691  0.23647295  0.24448898  0.25250501\n",
      "  0.26052104  0.26853707  0.27655311  0.28456914  0.29258517  0.3006012\n",
      "  0.30861723  0.31663327  0.3246493   0.33266533  0.34068136  0.34869739\n",
      "  0.35671343  0.36472946  0.37274549  0.38076152  0.38877756  0.39679359\n",
      "  0.40480962  0.41282565  0.42084168  0.42885772  0.43687375  0.44488978\n",
      "  0.45290581  0.46092184  0.46893788  0.47695391  0.48496994  0.49298597\n",
      "  0.501002    0.50901804  0.51703407  0.5250501   0.53306613  0.54108216\n",
      "  0.5490982   0.55711423  0.56513026  0.57314629  0.58116232  0.58917836\n",
      "  0.59719439  0.60521042  0.61322645  0.62124248  0.62925852  0.63727455\n",
      "  0.64529058  0.65330661  0.66132265  0.66933868  0.67735471  0.68537074\n",
      "  0.69338677  0.70140281  0.70941884  0.71743487  0.7254509   0.73346693\n",
      "  0.74148297  0.749499    0.75751503  0.76553106  0.77354709  0.78156313\n",
      "  0.78957916  0.79759519  0.80561122  0.81362725  0.82164329  0.82965932\n",
      "  0.83767535  0.84569138  0.85370741  0.86172345  0.86973948  0.87775551\n",
      "  0.88577154  0.89378758  0.90180361  0.90981964  0.91783567  0.9258517\n",
      "  0.93386774  0.94188377  0.9498998   0.95791583  0.96593186  0.9739479\n",
      "  0.98196393  0.98997996  0.99799599  1.00601202  1.01402806  1.02204409\n",
      "  1.03006012  1.03807615  1.04609218  1.05410822  1.06212425  1.07014028\n",
      "  1.07815631  1.08617234  1.09418838  1.10220441  1.11022044  1.11823647\n",
      "  1.12625251  1.13426854  1.14228457  1.1503006   1.15831663  1.16633267\n",
      "  1.1743487   1.18236473  1.19038076  1.19839679  1.20641283  1.21442886\n",
      "  1.22244489  1.23046092  1.23847695  1.24649299  1.25450902  1.26252505\n",
      "  1.27054108  1.27855711  1.28657315  1.29458918  1.30260521  1.31062124\n",
      "  1.31863727  1.32665331  1.33466934  1.34268537  1.3507014   1.35871743\n",
      "  1.36673347  1.3747495   1.38276553  1.39078156  1.3987976   1.40681363\n",
      "  1.41482966  1.42284569  1.43086172  1.43887776  1.44689379  1.45490982\n",
      "  1.46292585  1.47094188  1.47895792  1.48697395  1.49498998  1.50300601\n",
      "  1.51102204  1.51903808  1.52705411  1.53507014  1.54308617  1.5511022\n",
      "  1.55911824  1.56713427  1.5751503   1.58316633  1.59118236  1.5991984\n",
      "  1.60721443  1.61523046  1.62324649  1.63126253  1.63927856  1.64729459\n",
      "  1.65531062  1.66332665  1.67134269  1.67935872  1.68737475  1.69539078\n",
      "  1.70340681  1.71142285  1.71943888  1.72745491  1.73547094  1.74348697\n",
      "  1.75150301  1.75951904  1.76753507  1.7755511   1.78356713  1.79158317\n",
      "  1.7995992   1.80761523  1.81563126  1.82364729  1.83166333  1.83967936\n",
      "  1.84769539  1.85571142  1.86372745  1.87174349  1.87975952  1.88777555\n",
      "  1.89579158  1.90380762  1.91182365  1.91983968  1.92785571  1.93587174\n",
      "  1.94388778  1.95190381  1.95991984  1.96793587  1.9759519   1.98396794\n",
      "  1.99198397  2.        ]\n"
     ]
    },
    {
     "data": {
      "text/plain": [
       "<Figure size 640x480 with 1 Axes>"
      ]
     },
     "metadata": {},
     "output_type": "display_data"
    }
   ],
   "source": [
    "import matplotlib.pyplot as plt\n",
    "import numpy as np\n",
    "\n",
    "x = np.linspace(-2, 2, 500)\n",
    "print(x)\n",
    "vf = np.vectorize(f)\n",
    "y = vf(x)\n",
    "\n",
    "plt.plot(x, y, label='x + 0.5 + cos(x)')\n",
    "\n",
    "plt.ylim([-3, 3])\n",
    "plt.legend()\n",
    "plt.grid(True)\n",
    "plt.show()"
   ]
  },
  {
   "cell_type": "markdown",
   "metadata": {},
   "source": [
    "![x + 0.5 + cos(x)](images/biseccion_1.png)"
   ]
  },
  {
   "cell_type": "markdown",
   "metadata": {},
   "source": [
    "# Bisección"
   ]
  },
  {
   "cell_type": "markdown",
   "metadata": {},
   "source": [
    "### Encontremos la raiz utilizando el algoritmo de bisección"
   ]
  },
  {
   "cell_type": "markdown",
   "metadata": {},
   "source": [
    "Hagamos la implementación del algoritmo en Python:\n",
    "\n",
    "raiz = biseccion(f, -2, 0, 0.000001)"
   ]
  },
  {
   "cell_type": "markdown",
   "metadata": {},
   "source": [
    "## Definición del método de bisección"
   ]
  },
  {
   "cell_type": "code",
   "execution_count": 7,
   "metadata": {},
   "outputs": [],
   "source": [
    "# Implementación\n",
    "def biseccion(f, a, b, cota):\n",
    "    error = cota + 1    \n",
    "    p_ant = a \n",
    "    while error > cota:\n",
    "        p = (a + b) / 2.0\n",
    "        error = abs(p - p_ant)\n",
    "        p_ant = p\n",
    "        if f(a) * f(p) > 0:\n",
    "            a = p\n",
    "        elif f(b) * f(p) > 0:\n",
    "            b = p\n",
    "        else:\n",
    "            return p\n",
    "    return p"
   ]
  },
  {
   "cell_type": "code",
   "execution_count": 11,
   "metadata": {},
   "outputs": [
    {
     "name": "stdout",
     "output_type": "stream",
     "text": [
      "La raíz es: -1.021816896325118\n",
      "f(raiz) = 2.220446049250313e-16\n"
     ]
    }
   ],
   "source": [
    "raiz = biseccion(f, -2, 0, 1e-100)\n",
    "print(\"La raíz es: %s\" % raiz)\n",
    "print(\"f(raiz) =\", f(raiz))"
   ]
  },
  {
   "cell_type": "markdown",
   "metadata": {},
   "source": [
    "### Prueba con la función f(x) = x - exp(x)"
   ]
  },
  {
   "cell_type": "code",
   "execution_count": 12,
   "metadata": {},
   "outputs": [],
   "source": [
    "import math\n",
    "fun = lambda x: x - math.exp(-x)"
   ]
  },
  {
   "cell_type": "markdown",
   "metadata": {},
   "source": [
    "#### Con Bisección"
   ]
  },
  {
   "cell_type": "code",
   "execution_count": 13,
   "metadata": {},
   "outputs": [
    {
     "name": "stdout",
     "output_type": "stream",
     "text": [
      "0.5671432904097813\n",
      "fun(raiz) = -4.107825191113079e-15\n"
     ]
    }
   ],
   "source": [
    "raiz = biseccion(fun, -2, 2, 0.00000000000001)\n",
    "print(raiz)\n",
    "print(\"fun(raiz) =\", fun(raiz))"
   ]
  },
  {
   "cell_type": "markdown",
   "metadata": {},
   "source": [
    "#### Visualmente"
   ]
  },
  {
   "cell_type": "code",
   "execution_count": null,
   "metadata": {},
   "outputs": [],
   "source": [
    "import matplotlib.pyplot as plt\n",
    "import numpy as np\n",
    "\n",
    "x = np.linspace(-1, 2, 500)\n",
    "vfun = np.vectorize(fun)\n",
    "y = vfun(x)\n",
    "\n",
    "plt.plot(x, y, label='x - e^x')\n",
    "\n",
    "plt.ylim([-3, 3])\n",
    "plt.legend()\n",
    "plt.grid(True)\n",
    "plt.show()"
   ]
  },
  {
   "cell_type": "markdown",
   "metadata": {},
   "source": [
    "![x - e^x](images/biseccion_2.png)"
   ]
  },
  {
   "cell_type": "code",
   "execution_count": null,
   "metadata": {},
   "outputs": [],
   "source": [
    "def biseccion(f, a, b, cota=0.001):\n",
    "    \"\"\"El metodo de biseccion\n",
    "    \"\"\"\n",
    "    error = 100  # damos a error un valor grande cualquiera\n",
    "    raiz = a  # iniciamos a la variable raiz en 0, esta será la variable retornada por el método.\n",
    "    while error > cota:\n",
    "        aux = raiz  # guardamos el último valor de raiz para luego calcular el error.\n",
    "        raiz = (a + b) / 2.0\n",
    "        fa = f(a)\n",
    "        fraiz = f(raiz)\n",
    "        test = fa * fraiz\n",
    "        if test < 0:\n",
    "            b = raiz\n",
    "            error = abs(raiz - aux)\n",
    "        elif test > 0:\n",
    "            a = raiz\n",
    "            error = abs(raiz - aux)\n",
    "        else:\n",
    "            error = 0  # Si el test da 0 significa que f(raiz) = 0 y se termina el ciclo\n",
    "    return raiz"
   ]
  },
  {
   "cell_type": "code",
   "execution_count": null,
   "metadata": {},
   "outputs": [],
   "source": []
  }
 ],
 "metadata": {
  "kernelspec": {
   "display_name": "Python 2",
   "language": "python",
   "name": "python2"
  },
  "language_info": {
   "codemirror_mode": {
    "name": "ipython",
    "version": 3
   },
   "file_extension": ".py",
   "mimetype": "text/x-python",
   "name": "python",
   "nbconvert_exporter": "python",
   "pygments_lexer": "ipython3",
   "version": "3.7.3"
  }
 },
 "nbformat": 4,
 "nbformat_minor": 1
}
