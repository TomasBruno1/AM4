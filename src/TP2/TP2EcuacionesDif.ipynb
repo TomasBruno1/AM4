{
 "cells": [
  {
   "cell_type": "markdown",
   "metadata": {},
   "source": [
    "# Trabajo Práctico: Ecuaciones Diferenciales"
   ]
  },
  {
   "cell_type": "markdown",
   "metadata": {},
   "source": [
    "### Integrantes: Berretta Tomás, Bruno Tomás, Ferrari Ignacio, Kinderknetch Mauro"
   ]
  },
  {
   "cell_type": "markdown",
   "metadata": {},
   "source": [
    " ## Introducción: \n",
    "En este trabajo se realiza un experimento numérico para medir la efectividad de los métodos para la resolución numérica de ecuaciones diferenciales se ha elegido un problema cuya solución analítica es posible hallar usando los métodos que provee el Análisis Matemático."
   ]
  },
  {
   "cell_type": "markdown",
   "metadata": {},
   "source": [
    "## Algoritmos\n",
    "### Solución analítica:\n",
    "\n",
    "y´´´ + 2y´´ - y´ - 2y = e^x con y(0) = 1; y´(0) = -1; y´´(0) = 0\n",
    "\n",
    "Solución: 1/36 e^(-2 x) (-16 + 63 e^x + e^(3 x) (-11 + 6 x))"
   ]
  },
  {
   "cell_type": "code",
   "execution_count": null,
   "metadata": {},
   "outputs": [],
   "source": [
    "import math\n",
    "import numpy as np\n",
    "import matplotlib.pyplot as plt\n",
    "\n",
    "\n",
    "def analitica(x):\n",
    "    return 1 / 36 * math.e ** (-2 * x) * (-16 + 63 * math.e ** x + math.e ** (3 * x) * (-11 + 6 * x))"
   ]
  },
  {
   "cell_type": "markdown",
   "metadata": {},
   "source": [
    "### Código propuesto en Python:"
   ]
  },
  {
   "cell_type": "code",
   "execution_count": 4,
   "metadata": {},
   "outputs": [],
   "source": [
    "def dzdx(y, z, w, x):\n",
    "    return z\n",
    "\n",
    "\n",
    "def dwdx(y, z, w, x):\n",
    "    return w\n",
    "\n",
    "\n",
    "def dydx(y, z, w, x):\n",
    "    return math.pow(math.e, x) - 2 * w + z + 2 * y\n",
    "\n",
    "\n",
    "def runge_kutta_system(f, g, e, x0, y0, z0, a, b, h):\n",
    "    t = np.arange(a, b + h, h)\n",
    "    n = len(t)\n",
    "    x = np.zeros(n)\n",
    "    y = np.zeros(n)\n",
    "    z = np.zeros(n)\n",
    "    x[0] = x0\n",
    "    y[0] = y0\n",
    "    z[0] = z0\n",
    "    for i in range(n - 1):\n",
    "        k1 = h * f(x[i], y[i], z[i], t[i])\n",
    "        l1 = h * g(x[i], y[i], z[i], t[i])\n",
    "        m1 = h * e(x[i], y[i], z[i], t[i])\n",
    "        k2 = h * f(x[i] + k1 / 2, y[i] + l1 / 2, z[i] + m1/2, t[i] + h / 2)\n",
    "        l2 = h * g(x[i] + k1 / 2, y[i] + l1 / 2, z[i] + m1/2, t[i] + h / 2)\n",
    "        m2 = h * e(x[i] + k1 / 2, y[i] + l1 / 2, z[i] + m1/2, t[i] + h / 2)\n",
    "        k3 = h * f(x[i] + k2 / 2, y[i] + l2 / 2, z[i] + m2 / 2, t[i] + h / 2)\n",
    "        l3 = h * g(x[i] + k2 / 2, y[i] + l2 / 2, z[i] + m2 / 2, t[i] + h / 2)\n",
    "        m3 = h * e(x[i] + k2 / 2, y[i] + l2 / 2, z[i] + m2 / 2, t[i] + h / 2)\n",
    "        k4 = h * f(x[i] + k3, y[i] + l3, z[i] + m3, t[i] + h)\n",
    "        l4 = h * g(x[i] + k3, y[i] + l3, z[i] + m3, t[i] + h)\n",
    "        m4 = h * e(x[i] + k3, y[i] + l3, z[i] + m3, t[i] + h)\n",
    "        x[i + 1] = x[i] + (1 / 6) * (k1 + 2 * k2 + 2 * k3 + k4)\n",
    "        y[i + 1] = y[i] + (1 / 6) * (l1 + 2 * l2 + 2 * l3 + l4)\n",
    "        z[i + 1] = z[i] + (1 / 6) * (m1 + 2 * m2 + 2 * m3 + m4)\n",
    "    return t, x, y, z\n",
    "\n",
    "\n",
    "def adams_bashforth_w(x0, y0, y1, y2, y3, y4, z0, z1, z2, z3, z4, w0, w1, w2, w3, w4, h, f):\n",
    "    y = w4 + h / 720 * (1901 * f(y4, z4, w4, x0 + 4 * h) - 2774 * f(y3, z3, w3, x0 + 3 * h) + 2616 *\n",
    "                        f(y2, z2, w2, x0 + 2 * h) - 1274 * f(y1, z1, w1, x0 + h) + 251 * f(y0, z0, w0, x0))\n",
    "    return y\n",
    "\n",
    "\n",
    "def adams_bashforth_y(x0, y0, y1, y2, y3, y4, z0, z1, z2, z3, z4, w0, w1, w2, w3, w4, h, f):\n",
    "    y = y4 + h / 720 * (1901 * f(y4, z4, w4, x0 + 4 * h) - 2774 * f(y3, z3, w3, x0 + 3 * h) + 2616 *\n",
    "                        f(y2, z2, w2, x0 + 2 * h) - 1274 * f(y1, z1, w1, x0 + h) + 251 * f(y0, z0, w0, x0))\n",
    "    return y\n",
    "\n",
    "\n",
    "def adams_bashforth_z(x0, y0, y1, y2, y3, y4, z0, z1, z2, z3, z4, w0, w1, w2, w3, w4, h, f):\n",
    "    y = z4 + h / 720 * (1901 * f(y4, z4, w4, x0 + 4 * h) - 2774 * f(y3, z3, w3, x0 + 3 * h) + 2616 *\n",
    "                        f(y2, z2, w2, x0 + 2 * h) - 1274 * f(y1, z1, w1, x0 + h) + 251 * f(y0, z0, w0, x0))\n",
    "    return y\n",
    "\n",
    "\n",
    "def adams_moulton(x0, y1, y2, y3, y4, y5, z1, z2, z3, z4, z5, w1, w2, w3, w4, w5, h, it, f):\n",
    "    y = y4\n",
    "    for i in range(it):\n",
    "        y = y4 + h / 720 * (251 * f(y5, z5, w5, x0 + 5 * h) + 646 * f(y4, z4, w4, x0 + 4 * h) -\n",
    "                            264 * f(y3, z3, w3, x0 + 3 * h) + 106 * f(y2, z2, w2, x0 + 2 * h) - 19 * f(y1, z1, w1, x0 +\n",
    "                                                                                                       h))\n",
    "        y5 = y\n",
    "    return x0 + 5 * h, y\n",
    "\n",
    "\n",
    "def predictor_corrector(f, g, e, x0, y0, z0, a, b, h):\n",
    "    runge = runge_kutta_system(f, g, e, x0, y0, z0, a, b, h)\n",
    "    n = len(runge[0])\n",
    "    valW5 = adams_bashforth_w(runge[0][n - 5], runge[1][n - 5], runge[1][n - 4], runge[1][n - 3], runge[1][n - 2],\n",
    "                              runge[1][n - 1], runge[2][n - 5],\n",
    "                              runge[2][n - 4], runge[2][n - 3], runge[2][n - 2], runge[2][n - 1], runge[3][n - 5],\n",
    "                              runge[3][n - 4], runge[3][n - 3],\n",
    "                              runge[3][n - 2], runge[3][n - 1], h, dwdx)\n",
    "    valY5 = adams_bashforth_y(runge[0][n - 5], runge[1][n - 5], runge[1][n - 4], runge[1][n - 3], runge[1][n - 2],\n",
    "                              runge[1][n - 1], runge[2][n - 5],\n",
    "                              runge[2][n - 4], runge[2][n - 3], runge[2][n - 2], runge[2][n - 1], runge[3][n - 5],\n",
    "                              runge[3][n - 4], runge[3][n - 3],\n",
    "                              runge[3][n - 2], runge[3][n - 1], h, dydx)\n",
    "    valZ5 = adams_bashforth_z(runge[0][n - 5], runge[1][n - 5], runge[1][n - 4], runge[1][n - 3], runge[1][n - 2],\n",
    "                              runge[1][n - 1], runge[2][n - 5],\n",
    "                              runge[2][n - 4], runge[2][n - 3], runge[2][n - 2], runge[2][n - 1], runge[3][n - 5],\n",
    "                              runge[3][n - 4], runge[3][n - 3],\n",
    "                              runge[3][n - 2], runge[3][n - 1], h, dzdx)\n",
    "\n",
    "    result = adams_moulton(runge[0][n - 5], runge[1][n - 4], runge[1][n - 3], runge[1][n - 2],\n",
    "                        runge[1][n - 1], valY5,\n",
    "                        runge[2][n - 4], runge[2][n - 3], runge[2][n - 2], runge[2][n - 1], valZ5,\n",
    "                        runge[3][n - 4], runge[3][n - 3],\n",
    "                        runge[3][n - 2], runge[3][n - 1], valW5, h, 100, dzdx)\n",
    "    return result"
   ]
  },
  {
   "cell_type": "markdown",
   "metadata": {},
   "source": [
    "### Datos obtenidos:"
   ]
  },
  {
   "cell_type": "code",
   "execution_count": null,
   "metadata": {},
   "outputs": [],
   "source": [
    "xArray = [1,1.25, 1.5,1.75, 2,2.25, 2.5,2.75, 3]\n",
    "yPredict = []\n",
    "yAnalitica = []\n",
    "for i in range(len(xArray)):\n",
    "    yPredict[i] = predictor_corrector(dzdx, dwdx, dydx, 1, -1, 0, 0, 0.999, 0.001)\n",
    "    yAnalitica[i] = analitica(i)\n",
    "print(\"Con Método Predictor-Corrector\")\n",
    "plt.plot(xArray, yPredict)\n",
    "print(\"Con Solución Analítica\")\n",
    "plt.plot(xArray, yAnalitica)"
   ]
  },
  {
   "cell_type": "markdown",
   "metadata": {},
   "source": [
    "### Error:"
   ]
  },
  {
   "cell_type": "code",
   "execution_count": null,
   "metadata": {},
   "outputs": [],
   "source": [
    "error = yAnalitica-yPredict\n",
    "print(error)"
   ]
  },
  {
   "cell_type": "markdown",
   "metadata": {},
   "source": [
    "## Conclusión\n",
    "El método predictor-corrector de quinto orden acoplado con el método de Runge Kutta de 4 orden capaz de resolver sistemas de 3 ecuaciones diferenciales de primer orden presenta poco error al realizar saltos de h muy pequeños evidenciado en la comparación con la solución analítica, por lo que podemos concluir que es un método muy eficiente"
   ]
  }
 ],
 "metadata": {
  "kernelspec": {
   "display_name": "Python 3",
   "language": "python",
   "name": "python3"
  },
  "language_info": {
   "codemirror_mode": {
    "name": "ipython",
    "version": 3
   },
   "file_extension": ".py",
   "mimetype": "text/x-python",
   "name": "python",
   "nbconvert_exporter": "python",
   "pygments_lexer": "ipython3",
   "version": "3.7.2"
  }
 },
 "nbformat": 4,
 "nbformat_minor": 4
}
