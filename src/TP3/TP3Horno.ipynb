{
 "cells": [
  {
   "cell_type": "markdown",
   "metadata": {},
   "source": [
    "# Trabajo Práctico: El Horno"
   ]
  },
  {
   "cell_type": "markdown",
   "metadata": {},
   "source": [
    "### Integrantes: Berretta Tomás, Bruno Tomás, Ferrari Ignacio, Kinderknetch Mauro"
   ]
  },
  {
   "cell_type": "markdown",
   "metadata": {},
   "source": [
    " ## Introducción: \n",
    "En este trabajo se busca analizar la forma en la que se enfría un horno partiendo de una temperatura inicial utilizando la ley de enfriamiento de Newton. Se realiza el análisis para 10 tiempos distintos calculando mediante Runge Kutta las temperaturas de cada punto interno del horno en cada instante."
   ]
  },
  {
   "cell_type": "markdown",
   "metadata": {},
   "source": [
    "## Descripción de la solución propuesta:\n",
    "Para resolver el problema comenzamos por convertir el csv con los tiempos iniciales en un arreglo. Una vez obtenido el arreglo se realiza un for para cada uno de los puntos interiores del horno y a su vez se calcula la temperatura del ambiente promediando los puntos vecinos del punto que toca calcular. El calculo de la nueva temperatura se realiza con el método de Runge Kutta de cuarto orden y un incremento de h=0,01. Realizando este procedimiento 10 veces reutilizando los valores obtenidos en cada paso obtenemos las temperaturas del horno en 10 instantes desde un tiempo inicial 0 hasta t=10."
   ]
  },
  {
   "cell_type": "markdown",
   "metadata": {},
   "source": [
    "## Comparación de los algoritmos\n",
    "Solución analítica:\n",
    "\n",
    "dT/dt = -k(T-Tm)\n",
    "\n",
    "T = C * exp(-kt) + Tm"
   ]
  },
  {
   "cell_type": "code",
   "execution_count": null,
   "metadata": {},
   "outputs": [],
   "source": [
    "def analitica(x, T, Tm):\n",
    "    return constant(Tm,T) * math.exp(-0.25*x) + Tm\n",
    "\n",
    "\n",
    "def constant (Tm, T):\n",
    "    return T-Tm\n",
    "\n",
    "with open(\"temperaturas_horno.csv\", 'r') as file3:\n",
    "    array = np.loadtxt(file3, delimiter=\",\")\n",
    "\n",
    "    for i in range(1, len(array[0]) - 1):\n",
    "        for j in range(1, len(array[i]) - 1):\n",
    "            ambientT = (array[i - 1][j - 1] + array[i - 1][j] + array[i - 1][j + 1] + array[i][j - 1] +\n",
    "                        array[i + 1][\n",
    "                            j - 1] + array[i][j + 1] + array[i + 1][j] + array[i + 1][j + 1]) / 8\n",
    "            array[i][j] = analitica(1, array[i][j],ambientT)\n",
    "\n",
    "    with open(\"tempEnT1Analitica.csv\", 'w') as file2:\n",
    "        csvWriter = csv.writer(file2, delimiter=',')\n",
    "        csvWriter.writerows(array)\n",
    "\n",
    "with open(\"tempEnT1.csv\", 'r') as file4:\n",
    "    array = np.loadtxt(file4, delimiter=\",\")\n",
    "    with open(\"tempEnT1Analitica.csv\", 'r') as file5:\n",
    "        array2 = np.loadtxt(file5, delimiter=\",\")\n",
    "        error = array-array2\n",
    "        print(error)\n",
    "        with open(\"ErrorT1.csv\", 'w') as file6:\n",
    "            csvWriter = csv.writer(file6, delimiter=',')\n",
    "            csvWriter.writerows(error)\n",
    "            "
   ]
  },
  {
   "cell_type": "markdown",
   "metadata": {},
   "source": [
    "Se puede ver que en la primer iteración hay poco error al comparar la solución analítica con el metódo de Runge Kutta con h = 0.01."
   ]
  },
  {
   "cell_type": "markdown",
   "metadata": {},
   "source": [
    "## Código propuesto en Python"
   ]
  },
  {
   "cell_type": "code",
   "execution_count": 4,
   "metadata": {},
   "outputs": [],
   "source": [
    "import numpy as np\n",
    "import csv\n",
    "import matplotlib.pyplot as plt\n",
    "\n",
    "\n",
    "def dTdt(x, y, Tm):\n",
    "    return -0.25 * (y - Tm)\n",
    "\n",
    "\n",
    "def rungeKutta(x0, y0, x, h, Tm):\n",
    "    n = (int)((x - x0) / h)\n",
    "    y = y0\n",
    "    for i in range(1, n + 1):\n",
    "        k1 = h * dTdt(x0, y, ambientT)\n",
    "        k2 = h * dTdt(x0 + 0.5 * h, y + 0.5 * k1, ambientT)\n",
    "        k3 = h * dTdt(x0 + 0.5 * h, y + 0.5 * k2, ambientT)\n",
    "        k4 = h * dTdt(x0 + h, y + k3, ambientT)\n",
    "        y = y + (1.0 / 6.0) * (k1 + 2 * k2 + 2 * k3 + k4)\n",
    "        x0 = x0 + h\n",
    "    return y\n",
    "\n",
    "\n",
    "arrayArchivos = [\"temperaturas_horno.csv\", \"tempEnT1.csv\", \"tempEnT2.csv\", \"tempEnT3.csv\",\n",
    "                 \"tempEnT4.csv\", \"tempEnT5.csv\", \"tempEnT6.csv\", \"tempEnT7.csv\",\n",
    "                 \"tempEnT8.csv\", \"tempEnT9.csv\", \"tempEnT10.csv\"]\n",
    "\n",
    "for k in range(1, len(arrayArchivos)):\n",
    "\n",
    "    with open(arrayArchivos[k - 1], 'r') as file:\n",
    "        array = np.loadtxt(file, delimiter=\",\")\n",
    "\n",
    "        for i in range(1, len(array[0]) - 1):\n",
    "            for j in range(1, len(array[i]) - 1):\n",
    "                ambientT = (array[i - 1][j - 1] + array[i - 1][j] + array[i - 1][j + 1] + array[i][j - 1] +\n",
    "                            array[i + 1][\n",
    "                                j - 1] + array[i][j + 1] + array[i + 1][j] + array[i + 1][j + 1]) / 8\n",
    "                array[i][j] = rungeKutta(0, array[i][j], 1, 0.01, ambientT)\n",
    "\n",
    "        with open(arrayArchivos[k], 'w') as file2:\n",
    "            csvWriter = csv.writer(file2, delimiter=',')\n",
    "            csvWriter.writerows(array)\n"
   ]
  },
  {
   "cell_type": "markdown",
   "metadata": {},
   "source": [
    "## Mapas de Calor"
   ]
  },
  {
   "cell_type": "code",
   "execution_count": 10,
   "metadata": {},
   "outputs": [
    {
     "name": "stdout",
     "output_type": "stream",
     "text": [
      "Horno en el tiempo: 0\n"
     ]
    },
    {
     "data": {
      "image/png": "[encoded data removed]",
      "text/plain": [
       "<Figure size 432x288 with 1 Axes>"
      ]
     },
     "metadata": {
      "needs_background": "light"
     },
     "output_type": "display_data"
    },
    {
     "name": "stdout",
     "output_type": "stream",
     "text": [
      "Horno en el tiempo: 1\n"
     ]
    },
    {
     "data": {
      "image/png": "[encoded data removed]",
      "text/plain": [
       "<Figure size 432x288 with 1 Axes>"
      ]
     },
     "metadata": {
      "needs_background": "light"
     },
     "output_type": "display_data"
    },
    {
     "name": "stdout",
     "output_type": "stream",
     "text": [
      "Horno en el tiempo: 2\n"
     ]
    },
    {
     "data": {
      "image/png": "[encoded data removed]",
      "text/plain": [
       "<Figure size 432x288 with 1 Axes>"
      ]
     },
     "metadata": {
      "needs_background": "light"
     },
     "output_type": "display_data"
    },
    {
     "name": "stdout",
     "output_type": "stream",
     "text": [
      "Horno en el tiempo: 3\n"
     ]
    },
    {
     "data": {
      "image/png": "[encoded data removed]",
      "text/plain": [
       "<Figure size 432x288 with 1 Axes>"
      ]
     },
     "metadata": {
      "needs_background": "light"
     },
     "output_type": "display_data"
    },
    {
     "name": "stdout",
     "output_type": "stream",
     "text": [
      "Horno en el tiempo: 4\n"
     ]
    },
    {
     "data": {
      "image/png": "[encoded data removed]",
      "text/plain": [
       "<Figure size 432x288 with 1 Axes>"
      ]
     },
     "metadata": {
      "needs_background": "light"
     },
     "output_type": "display_data"
    },
    {
     "name": "stdout",
     "output_type": "stream",
     "text": [
      "Horno en el tiempo: 5\n"
     ]
    },
    {
     "data": {
      "image/png": "[encoded data removed]",
      "text/plain": [
       "<Figure size 432x288 with 1 Axes>"
      ]
     },
     "metadata": {
      "needs_background": "light"
     },
     "output_type": "display_data"
    },
    {
     "name": "stdout",
     "output_type": "stream",
     "text": [
      "Horno en el tiempo: 6\n"
     ]
    },
    {
     "data": {
      "image/png": "[encoded data removed]",
      "text/plain": [
       "<Figure size 432x288 with 1 Axes>"
      ]
     },
     "metadata": {
      "needs_background": "light"
     },
     "output_type": "display_data"
    },
    {
     "name": "stdout",
     "output_type": "stream",
     "text": [
      "Horno en el tiempo: 7\n"
     ]
    },
    {
     "data": {
      "image/png": "[encoded data removed]",
      "text/plain": [
       "<Figure size 432x288 with 1 Axes>"
      ]
     },
     "metadata": {
      "needs_background": "light"
     },
     "output_type": "display_data"
    },
    {
     "name": "stdout",
     "output_type": "stream",
     "text": [
      "Horno en el tiempo: 8\n"
     ]
    },
    {
     "data": {
      "image/png": "[encoded data removed]",
      "text/plain": [
       "<Figure size 432x288 with 1 Axes>"
      ]
     },
     "metadata": {
      "needs_background": "light"
     },
     "output_type": "display_data"
    },
    {
     "name": "stdout",
     "output_type": "stream",
     "text": [
      "Horno en el tiempo: 9\n"
     ]
    },
    {
     "data": {
      "image/png": "[encoded data removed]",
      "text/plain": [
       "<Figure size 432x288 with 1 Axes>"
      ]
     },
     "metadata": {
      "needs_background": "light"
     },
     "output_type": "display_data"
    },
    {
     "name": "stdout",
     "output_type": "stream",
     "text": [
      "Horno en el tiempo: 10\n"
     ]
    },
    {
     "data": {
      "image/png": "[encoded data removed]",
      "text/plain": [
       "<Figure size 432x288 with 1 Axes>"
      ]
     },
     "metadata": {
      "needs_background": "light"
     },
     "output_type": "display_data"
    }
   ],
   "source": [
    "for k in range(0, len(arrayArchivos)):\n",
    "    with open(arrayArchivos[k], 'r') as file:\n",
    "        print(\"Horno en el tiempo: \" + str(k))\n",
    "        array = np.loadtxt(file, delimiter=\",\")\n",
    "        plt.imshow(array, cmap='gist_heat')\n",
    "        plt.show()\n"
   ]
  },
  {
   "cell_type": "markdown",
   "metadata": {},
   "source": [
    "## Conclusión\n",
    "Con los datos obtenidos mediante el algoritmo de Runge Kutta, observamos que el horno se enfria mucho más rápido en las esquinas ya que hay mayor cantidad de puntos en donde la temperatura ambiental es más fría, y el centro tarda una cantidad de tiempo mayor debido a que los datos que obtiene son de temperaturas más calientes."
   ]
  }
 ],
 "metadata": {
  "kernelspec": {
   "display_name": "Python 3",
   "language": "python",
   "name": "python3"
  },
  "language_info": {
   "codemirror_mode": {
    "name": "ipython",
    "version": 3
   },
   "file_extension": ".py",
   "mimetype": "text/x-python",
   "name": "python",
   "nbconvert_exporter": "python",
   "pygments_lexer": "ipython3",
   "version": "3.7.2"
  }
 },
 "nbformat": 4,
 "nbformat_minor": 4
}
