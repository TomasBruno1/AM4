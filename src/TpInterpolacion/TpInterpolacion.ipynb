{
 "cells": [
  {
   "cell_type": "markdown",
   "metadata": {},
   "source": [
    "# Trabajo Práctico Interpolación de Imágenes\n",
    "### Integrantes: Berretta Tomás, Bruno Tomás, Ferrari Ignacio, Kinderknetch Mauro\n",
    "\n",
    "## Introducción: \n",
    "En este trabajo vamos a implementar tres variantes diferentes de escalado de\n",
    "imágenes utilizando las siguientes funciones de interpolación:\n",
    "Vecino más cercano: solo tiene en cuenta un píxel: el más cercano al punto interpolado.\n",
    "Bilineal: tiene en cuenta los valores en los píxeles conocidos que rodean a uno dado en\n",
    "una vecindad de los 2x2 píxeles más cercanos. Se toma el promedio ponderado de estos 4\n",
    "píxeles y se calcula el valor interpolado.\n",
    "Bicúbica: Un paso más allá del caso bilineal es considerar la vecindad de los 4x4 píxeles\n",
    "conocidos más cercanos, es decir, un total de 16 píxeles. Cómo están situados a distancias\n",
    "distintas del píxel de valor desconocido, se da mayor peso en el cálculo a los más cercanos."
   ]
  },
  {
   "cell_type": "markdown",
   "metadata": {},
   "source": [
    "## Código\n",
    "### Vecino Más Cercano:"
   ]
  },
  {
   "cell_type": "code",
   "execution_count": 5,
   "metadata": {},
   "outputs": [
    {
     "data": {
      "image/png": "[encoded data removed]",
      "text/plain": [
       "<Figure size 432x288 with 1 Axes>"
      ]
     },
     "metadata": {
      "needs_background": "light"
     },
     "output_type": "display_data"
    },
    {
     "data": {
      "image/png": "[encoded data removed]",
      "text/plain": [
       "<Figure size 432x288 with 1 Axes>"
      ]
     },
     "metadata": {
      "needs_background": "light"
     },
     "output_type": "display_data"
    }
   ],
   "source": [
    "import numpy as np\n",
    "import matplotlib.pyplot as plt\n",
    "\n",
    "# Leer una imagen\n",
    "img = plt.imread(\"test_1.jpg\")\n",
    "\n",
    "# Interpolar valores desconocidos\n",
    "def zoom_in_closest(img):\n",
    "    # Obtener la dimensión de la imagen\n",
    "    height, width, t = img.shape\n",
    "\n",
    "    # Tamaño nuevo\n",
    "    new_width = width * 2\n",
    "    new_height = height * 2\n",
    "    \n",
    "    #Creamos una imagen negra del doble de tamaño\n",
    "    resized_image = np.zeros((new_height, new_width, t))\n",
    "    \n",
    "    #Interpola la imagen con los mas cercanos\n",
    "    for i in range(new_width):\n",
    "        for j in range(new_height):\n",
    "            resized_image[i,j] = img[i//2, j//2]\n",
    "            for k in range(3):\n",
    "                if(resized_image[i,j][k] >= 1): resized_image[i,j][k] = 1\n",
    "                if(resized_image[i,j][k] <= 0): resized_image[i,j][k] = 0\n",
    "            \n",
    "    # Guardamos la imagen en disco\n",
    "    plt.imsave('test_bigger_closest.png', resized_image)\n",
    "\n",
    "    #Mostramos la imagen en pantalla\n",
    "    plt.imshow(resized_image, vmin=0, vmax=1)\n",
    "    plt.show()\n",
    "    return resized_image\n",
    "            \n",
    "zoom_in_closest(img)\n",
    "\n",
    "def zoom_out_closest(img):\n",
    "    # Obtener la dimensión de la imagen\n",
    "    height, width, t = img.shape\n",
    "\n",
    "    # Tamaño nuevo\n",
    "    new_width = width // 2\n",
    "    new_height = height // 2\n",
    "    \n",
    "    #Creamos una imagen negra de la mitad de tamaño\n",
    "    resized_image = np.zeros((new_height, new_width, t))\n",
    "    \n",
    "    #Interpola la imagen con los mas cercanos\n",
    "    for i in range(new_width):\n",
    "        for j in range(new_height):\n",
    "            resized_image[i,j] = img[i*2, j*2]\n",
    "            for k in range(3):\n",
    "                if(resized_image[i,j][k] >= 1): resized_image[i,j][k] = 1\n",
    "                if(resized_image[i,j][k] <= 0): resized_image[i,j][k] = 0\n",
    "            \n",
    "    # Guardamos la imagen en disco\n",
    "    plt.imsave('test_bigger_closest.png', resized_image)\n",
    "\n",
    "    #Mostramos la imagen en pantalla\n",
    "    plt.imshow(resized_image, vmin=0, vmax=1)\n",
    "    plt.show()\n",
    "    return resized_image\n",
    "\n",
    "img = zoom_out_closest(img)"
   ]
  },
  {
   "cell_type": "markdown",
   "metadata": {},
   "source": [
    "### Bilineal"
   ]
  },
  {
   "cell_type": "code",
   "execution_count": 6,
   "metadata": {},
   "outputs": [
    {
     "data": {
      "image/png": "[encoded data removed]",
      "text/plain": [
       "<Figure size 432x288 with 1 Axes>"
      ]
     },
     "metadata": {
      "needs_background": "light"
     },
     "output_type": "display_data"
    },
    {
     "data": {
      "image/png": "[encoded data removed]",
      "text/plain": [
       "<Figure size 432x288 with 1 Axes>"
      ]
     },
     "metadata": {
      "needs_background": "light"
     },
     "output_type": "display_data"
    }
   ],
   "source": [
    "import numpy as np\n",
    "import matplotlib.pyplot as plt\n",
    "\n",
    "# Leer una imagen\n",
    "img = plt.imread(\"test_1.jpg\")\n",
    "\n",
    "\n",
    "def zoom_in_bilineal(array_in):\n",
    "    # Obtener la dimensión de la imagen\n",
    "    height_in, width_in, t = img.shape\n",
    "    t = 3\n",
    "\n",
    "    # Tamaño nuevo\n",
    "    width_out = width_in * 2\n",
    "    height_out = height_in * 2\n",
    "\n",
    "    # Creamos una imagen negra del doble de tamaño\n",
    "    array_out = np.zeros((height_out, width_out, t))\n",
    "\n",
    "    # Interpolar valores desconocidos\n",
    "    for i in range(height_out):\n",
    "        for j in range(width_out):\n",
    "            # Relative coordinates of the pixel in output space\n",
    "            x_out = j / width_out\n",
    "            y_out = i / height_out\n",
    "\n",
    "            # Corresponding absolute coordinates of the pixel in input space\n",
    "            x_in = (x_out * width_in)\n",
    "            y_in = (y_out * height_in)\n",
    "\n",
    "            # Nearest neighbours coordinates in input space\n",
    "            x_prev = int(np.floor(x_in))\n",
    "            x_next = x_prev + 1\n",
    "            y_prev = int(np.floor(y_in))\n",
    "            y_next = y_prev + 1\n",
    "\n",
    "            # Sanitize bounds - no need to check for < 0\n",
    "            x_prev = min(x_prev, width_in - 1)\n",
    "            x_next = min(x_next, width_in - 1)\n",
    "            y_prev = min(y_prev, height_in - 1)\n",
    "            y_next = min(y_next, height_in - 1)\n",
    "\n",
    "            # Distances between neighbour nodes in input space\n",
    "            Dy_next = y_next - y_in\n",
    "            Dy_prev = 1. - Dy_next  # because next - prev = 1\n",
    "            Dx_next = x_next - x_in\n",
    "            Dx_prev = 1. - Dx_next  # because next - prev = 1\n",
    "\n",
    "            # Interpolate over 3 RGB layers\n",
    "            for c in range(3):\n",
    "                array_out[i][j][c] = Dy_prev * (\n",
    "                        array_in[y_next][x_prev][c] * Dx_next + array_in[y_next][x_next][c] * Dx_prev) \\\n",
    "                                     + Dy_next * (array_in[y_prev][x_prev][c] * Dx_next + array_in[y_prev][x_next][c]\n",
    "                                                  * Dx_prev)\n",
    "\n",
    "    # Guardamos la imagen en disco\n",
    "    plt.imsave('test_bigger_bilineal.png', array_out)\n",
    "\n",
    "    # Mostramos la imagen en pantalla\n",
    "    plt.imshow(array_out, vmin=0, vmax=1)\n",
    "    plt.show()\n",
    "\n",
    "\n",
    "zoom_in_bilineal(img)\n",
    "\n",
    "\n",
    "def zoom_out_bilineal(array_in):\n",
    "    # Obtener la dimensión de la imagen\n",
    "    height_in, width_in, t = img.shape\n",
    "    t = 3\n",
    "\n",
    "    # Tamaño nuevo\n",
    "    width_out = width_in // 2\n",
    "    height_out = height_in // 2\n",
    "\n",
    "    # Creamos una imagen negra de la mitad de tamaño\n",
    "    array_out = np.zeros((height_out, width_out, t))\n",
    "\n",
    "    for i in range(height_out):\n",
    "        for j in range(width_out):\n",
    "            # Relative coordinates of the pixel in output space\n",
    "            x_out = j / width_out\n",
    "            y_out = i / height_out\n",
    "\n",
    "            # Corresponding absolute coordinates of the pixel in input space\n",
    "            x_in = (x_out * width_in)\n",
    "            y_in = (y_out * height_in)\n",
    "\n",
    "            # Nearest neighbours coordinates in input space\n",
    "            x_prev = int(np.floor(x_in))\n",
    "            x_next = x_prev + 1\n",
    "            y_prev = int(np.floor(y_in))\n",
    "            y_next = y_prev + 1\n",
    "\n",
    "            # Sanitize bounds - no need to check for < 0\n",
    "            x_prev = min(x_prev, width_in - 1)\n",
    "            x_next = min(x_next, width_in - 1)\n",
    "            y_prev = min(y_prev, height_in - 1)\n",
    "            y_next = min(y_next, height_in - 1)\n",
    "\n",
    "            # Distances between neighbour nodes in input space\n",
    "            Dy_next = y_next - y_in\n",
    "            Dy_prev = 1. - Dy_next  # because next - prev = 1\n",
    "            Dx_next = x_next - x_in\n",
    "            Dx_prev = 1. - Dx_next  # because next - prev = 1\n",
    "\n",
    "            # Interpolate over 3 RGB layers\n",
    "            for c in range(3):\n",
    "                array_out[i][j][c] = Dy_prev * (\n",
    "                        array_in[y_next][x_prev][c] * Dx_next + array_in[y_next][x_next][c] * Dx_prev) \\\n",
    "                                     + Dy_next * (array_in[y_prev][x_prev][c] * Dx_next + array_in[y_prev][x_next][c]\n",
    "                                                  * Dx_prev)\n",
    "\n",
    "    # Guardamos la imagen en disco\n",
    "    plt.imsave('test_smaller_bilineal.png', array_out)\n",
    "\n",
    "    # Mostramos la imagen en pantalla\n",
    "    plt.imshow(array_out, vmin=0, vmax=1)\n",
    "    plt.show()\n",
    "\n",
    "\n",
    "zoom_out_bilineal(img)\n"
   ]
  },
  {
   "cell_type": "markdown",
   "metadata": {},
   "source": [
    "### Bicubica"
   ]
  },
  {
   "cell_type": "code",
   "execution_count": 7,
   "metadata": {},
   "outputs": [
    {
     "data": {
      "image/png": "[encoded data removed]",
      "text/plain": [
       "<Figure size 432x288 with 1 Axes>"
      ]
     },
     "metadata": {
      "needs_background": "light"
     },
     "output_type": "display_data"
    },
    {
     "data": {
      "image/png": "[encoded data removed]",
      "text/plain": [
       "<Figure size 432x288 with 1 Axes>"
      ]
     },
     "metadata": {
      "needs_background": "light"
     },
     "output_type": "display_data"
    }
   ],
   "source": [
    "import numpy as np\n",
    "import matplotlib.pyplot as plt\n",
    "\n",
    "# Leer una imagen\n",
    "img = plt.imread(\"test_1.jpg\")\n",
    "\n",
    "\n",
    "def S(x):\n",
    "    x = np.abs(x)\n",
    "    if 0 <= x < 1:\n",
    "        return 1 - 2 * x * x + x * x * x\n",
    "    if 1 <= x < 2:\n",
    "        return 4 - 8 * x + 5 * x * x - x * x * x\n",
    "    else:\n",
    "        return 0\n",
    "\n",
    "\n",
    "def zoom_in_bicubic(img):\n",
    "    height, width, channels = img.shape\n",
    "    m = height * 2\n",
    "    n = width * 2\n",
    "    array_out = np.zeros((m, n, 3))\n",
    "    sh = m / height\n",
    "    sw = n / width\n",
    "    for i in range(m):\n",
    "        for j in range(n):\n",
    "            x = i / sh\n",
    "            y = j / sw\n",
    "            p = (i + 0.0) / sh - x\n",
    "            q = (j + 0.0) / sw - y\n",
    "            x = int(x) - 2\n",
    "            y = int(y) - 2\n",
    "            A = np.array([\n",
    "                [S(1 + p), S(p), S(1 - p), S(2 - p)]\n",
    "            ])\n",
    "            if x >= m - 3:\n",
    "                m - 1\n",
    "            if y >= n - 3:\n",
    "                n - 1\n",
    "            if 1 <= x <= (m - 3) and 1 <= y <= (n - 3):\n",
    "                B = np.array([\n",
    "                    [img[x - 1, y - 1], img[x - 1, y],\n",
    "                     img[x - 1, y + 1],\n",
    "                     img[x - 1, y + 1]],\n",
    "                    [img[x, y - 1], img[x, y],\n",
    "                     img[x, y + 1], img[x, y + 2]],\n",
    "                    [img[x + 1, y - 1], img[x + 1, y],\n",
    "                     img[x + 1, y + 1], img[x + 1, y + 2]],\n",
    "                    [img[x + 2, y - 1], img[x + 2, y],\n",
    "                     img[x + 2, y + 1], img[x + 2, y + 1]],\n",
    "\n",
    "                ])\n",
    "                C = np.array([\n",
    "                    [S(1 + q)],\n",
    "                    [S(q)],\n",
    "                    [S(1 - q)],\n",
    "                    [S(2 - q)]\n",
    "                ])\n",
    "                blue = np.dot(np.dot(A, B[:, :, 0]), C)[0, 0]\n",
    "                green = np.dot(np.dot(A, B[:, :, 1]), C)[0, 0]\n",
    "                red = np.dot(np.dot(A, B[:, :, 2]), C)[0, 0]\n",
    "\n",
    "                array_out[i, j] = [blue, green, red]\n",
    "    # Guardamos la imagen en disco\n",
    "    plt.imsave('test_bigger_bicubic.png', array_out)\n",
    "\n",
    "    # Mostramos la imagen en pantalla\n",
    "    plt.imshow(array_out, vmin=0, vmax=1)\n",
    "    plt.show()\n",
    "\n",
    "\n",
    "zoom_in_bicubic(img)\n",
    "\n",
    "\n",
    "def zoom_out_bicubic(img):\n",
    "    height, width, channels = img.shape\n",
    "    m = height // 2\n",
    "    n = width // 2\n",
    "    array_out = np.zeros((m, n, 3))\n",
    "    sh = m / height\n",
    "    sw = n / width\n",
    "    for i in range(m):\n",
    "        for j in range(n):\n",
    "            x = i / sh\n",
    "            y = j / sw\n",
    "            p = (i + 0.0) / sh - x\n",
    "            q = (j + 0.0) / sw - y\n",
    "            x = int(x) - 2\n",
    "            y = int(y) - 2\n",
    "            A = np.array([\n",
    "                [S(1 + p), S(p), S(1 - p), S(2 - p)]\n",
    "            ])\n",
    "            if x >= m - 3:\n",
    "                m - 1\n",
    "            if y >= n - 3:\n",
    "                n - 1\n",
    "            if 1 <= x <= (m - 3) and 1 <= y <= (n - 3):\n",
    "                B = np.array([\n",
    "                    [img[x - 1, y - 1], img[x - 1, y],\n",
    "                     img[x - 1, y + 1],\n",
    "                     img[x - 1, y + 1]],\n",
    "                    [img[x, y - 1], img[x, y],\n",
    "                     img[x, y + 1], img[x, y + 2]],\n",
    "                    [img[x + 1, y - 1], img[x + 1, y],\n",
    "                     img[x + 1, y + 1], img[x + 1, y + 2]],\n",
    "                    [img[x + 2, y - 1], img[x + 2, y],\n",
    "                     img[x + 2, y + 1], img[x + 2, y + 1]],\n",
    "\n",
    "                ])\n",
    "                C = np.array([\n",
    "                    [S(1 + q)],\n",
    "                    [S(q)],\n",
    "                    [S(1 - q)],\n",
    "                    [S(2 - q)]\n",
    "                ])\n",
    "                blue = np.dot(np.dot(A, B[:, :, 0]), C)\n",
    "                green = np.dot(np.dot(A, B[:, :, 1]), C)\n",
    "                red = np.dot(np.dot(A, B[:, :, 2]), C)\n",
    "\n",
    "                array_out[i, j] = [blue, green, red]\n",
    "    # Guardamos la imagen en disco\n",
    "    plt.imsave('test_smaller_bicubic.png', array_out)\n",
    "\n",
    "    # Mostramos la imagen en pantalla\n",
    "    plt.imshow(array_out, vmin=0, vmax=1)\n",
    "    plt.show()\n",
    "\n",
    "\n",
    "zoom_out_bicubic(img)\n"
   ]
  },
  {
   "cell_type": "markdown",
   "metadata": {},
   "source": [
    "## Conclusiones\n",
    "Después de realizar las interpolaciones con los distintos métodos llegamos a las siguientes conclusiones:\n",
    "La interpolación por vecino más cercano es la más rapida"
   ]
  }
 ],
 "metadata": {
  "kernelspec": {
   "display_name": "Python 3",
   "language": "python",
   "name": "python3"
  },
  "language_info": {
   "codemirror_mode": {
    "name": "ipython",
    "version": 3
   },
   "file_extension": ".py",
   "mimetype": "text/x-python",
   "name": "python",
   "nbconvert_exporter": "python",
   "pygments_lexer": "ipython3",
   "version": "3.8.5"
  }
 },
 "nbformat": 4,
 "nbformat_minor": 4
}
